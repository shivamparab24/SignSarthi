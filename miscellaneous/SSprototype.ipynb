{
 "cells": [
  {
   "cell_type": "code",
   "execution_count": 1,
   "id": "2201030d-e4c2-478a-bcb9-2fe65c96db58",
   "metadata": {},
   "outputs": [],
   "source": [
    "#!pip install SpeechRecognition\n",
    "#!pip install pyaudio\n",
    "#!pip install nltk"
   ]
  },
  {
   "cell_type": "code",
   "execution_count": 2,
   "id": "80fcc116-404e-4327-a005-519b9a2038dd",
   "metadata": {},
   "outputs": [],
   "source": [
    "import pandas as pd\n",
    "import os\n",
    "import matplotlib.pyplot as plt\n",
    "from matplotlib.animation import FuncAnimation\n",
    "from IPython.display import HTML"
   ]
  },
  {
   "cell_type": "code",
   "execution_count": 3,
   "id": "2ea71cec-8413-435e-adfc-c0e5d447869f",
   "metadata": {},
   "outputs": [],
   "source": [
    "def get_hand_points(hand):\n",
    "    x = [[hand.iloc[0].x, hand.iloc[1].x, hand.iloc[2].x, hand.iloc[3].x, hand.iloc[4].x], # Thumb\n",
    "         [hand.iloc[5].x, hand.iloc[6].x, hand.iloc[7].x, hand.iloc[8].x], # Index\n",
    "         [hand.iloc[9].x, hand.iloc[10].x, hand.iloc[11].x, hand.iloc[12].x],\n",
    "         [hand.iloc[13].x, hand.iloc[14].x, hand.iloc[15].x, hand.iloc[16].x],\n",
    "         [hand.iloc[17].x, hand.iloc[18].x, hand.iloc[19].x, hand.iloc[20].x],\n",
    "         [hand.iloc[0].x, hand.iloc[5].x, hand.iloc[9].x, hand.iloc[13].x, hand.iloc[17].x, hand.iloc[0].x]]\n",
    "\n",
    "    y = [[hand.iloc[0].y, hand.iloc[1].y, hand.iloc[2].y, hand.iloc[3].y, hand.iloc[4].y],  #Thumb\n",
    "         [hand.iloc[5].y, hand.iloc[6].y, hand.iloc[7].y, hand.iloc[8].y], # Index\n",
    "         [hand.iloc[9].y, hand.iloc[10].y, hand.iloc[11].y, hand.iloc[12].y],\n",
    "         [hand.iloc[13].y, hand.iloc[14].y, hand.iloc[15].y, hand.iloc[16].y],\n",
    "         [hand.iloc[17].y, hand.iloc[18].y, hand.iloc[19].y, hand.iloc[20].y],\n",
    "         [hand.iloc[0].y, hand.iloc[5].y, hand.iloc[9].y, hand.iloc[13].y, hand.iloc[17].y, hand.iloc[0].y]]\n",
    "    return x, y\n",
    "\n",
    "def get_pose_points(pose):\n",
    "    x = [[pose.iloc[8].x, pose.iloc[6].x, pose.iloc[5].x, pose.iloc[4].x, pose.iloc[0].x, pose.iloc[1].x, pose.iloc[2].x, pose.iloc[3].x, pose.iloc[7].x],\n",
    "         [pose.iloc[10].x, pose.iloc[9].x],\n",
    "         [pose.iloc[22].x, pose.iloc[16].x, pose.iloc[20].x, pose.iloc[18].x, pose.iloc[16].x, pose.iloc[14].x, pose.iloc[12].x,\n",
    "          pose.iloc[11].x, pose.iloc[13].x, pose.iloc[15].x, pose.iloc[17].x, pose.iloc[19].x, pose.iloc[15].x, pose.iloc[21].x],\n",
    "         [pose.iloc[12].x, pose.iloc[24].x, pose.iloc[26].x, pose.iloc[28].x, pose.iloc[30].x, pose.iloc[32].x, pose.iloc[28].x],\n",
    "         [pose.iloc[11].x, pose.iloc[23].x, pose.iloc[25].x, pose.iloc[27].x, pose.iloc[29].x, pose.iloc[31].x, pose.iloc[27].x],\n",
    "         [pose.iloc[24].x, pose.iloc[23].x]\n",
    "        ]\n",
    "\n",
    "    y = [[pose.iloc[8].y, pose.iloc[6].y, pose.iloc[5].y, pose.iloc[4].y, pose.iloc[0].y, pose.iloc[1].y, pose.iloc[2].y, pose.iloc[3].y, pose.iloc[7].y],\n",
    "         [pose.iloc[10].y, pose.iloc[9].y],\n",
    "         [pose.iloc[22].y, pose.iloc[16].y, pose.iloc[20].y, pose.iloc[18].y, pose.iloc[16].y, pose.iloc[14].y, pose.iloc[12].y,\n",
    "          pose.iloc[11].y, pose.iloc[13].y, pose.iloc[15].y, pose.iloc[17].y, pose.iloc[19].y, pose.iloc[15].y, pose.iloc[21].y],\n",
    "         [pose.iloc[12].y, pose.iloc[24].y, pose.iloc[26].y, pose.iloc[28].y, pose.iloc[30].y, pose.iloc[32].y, pose.iloc[28].y],\n",
    "         [pose.iloc[11].y, pose.iloc[23].y, pose.iloc[25].y, pose.iloc[27].y, pose.iloc[29].y, pose.iloc[31].y, pose.iloc[27].y],\n",
    "         [pose.iloc[24].y, pose.iloc[23].y]\n",
    "        ]\n",
    "    return x, y\n",
    "\n",
    "def animation_frame(f):\n",
    "    frame = df[df.frame==f]\n",
    "    left = frame[frame.type=='left_hand']\n",
    "    right = frame[frame.type=='right_hand']\n",
    "    pose = frame[frame.type=='pose']\n",
    "    face = frame[frame.type=='face'][['x', 'y']].values\n",
    "    lx, ly = get_hand_points(left)\n",
    "    rx, ry = get_hand_points(right)\n",
    "    px, py = get_pose_points(pose)\n",
    "    ## These values set the limits on the graph to stabilize the video\n",
    "    xmin = df.x.min() - 0.2\n",
    "    xmax = df.x.max() + 0.2\n",
    "    ymin = df.y.min() - 0.2\n",
    "    ymax = df.y.max() + 0.2\n",
    "    \n",
    "    ax.clear()\n",
    "    ax.plot(face[:,0], face[:,1], '.')\n",
    "    for i in range(len(lx)):\n",
    "        ax.plot(lx[i], ly[i])\n",
    "    for i in range(len(rx)):\n",
    "        ax.plot(rx[i], ry[i])\n",
    "    for i in range(len(px)):\n",
    "        ax.plot(px[i], py[i])\n",
    "    plt.xlim(xmin, xmax)\n",
    "    plt.ylim(ymin, ymax)"
   ]
  },
  {
   "cell_type": "code",
   "execution_count": 4,
   "id": "095b19ad-52bc-47c9-9b51-ad82feb5f6f1",
   "metadata": {},
   "outputs": [],
   "source": [
    "import speech_recognition as sr\n",
    "\n",
    "# Initialize the recognizer\n",
    "recognizer = sr.Recognizer()\n",
    "\n",
    "# Function to convert speech to text\n",
    "def speech_to_text():\n",
    "    with sr.Microphone() as source:\n",
    "        print(\"Speak something...\")\n",
    "        audio = recognizer.listen(source)  # Listen to the microphone input\n",
    "\n",
    "    try:\n",
    "        text = recognizer.recognize_google(audio)  # Use Google Speech Recognition\n",
    "        print(\"You said:\", text)\n",
    "        return text\n",
    "    except sr.UnknownValueError:\n",
    "        print(\"Could not understand audio\")\n",
    "        return \"\"\n",
    "    except sr.RequestError as e:\n",
    "        print(\"Error occurred; {0}\".format(e))\n",
    "        return \"\"\n",
    "    "
   ]
  },
  {
   "cell_type": "code",
   "execution_count": 5,
   "id": "026e6db3-de4d-454f-89e8-47e7c5510c59",
   "metadata": {},
   "outputs": [
    {
     "name": "stdout",
     "output_type": "stream",
     "text": [
      "Speak something...\n",
      "You said: hello I love you happy\n"
     ]
    }
   ],
   "source": [
    "# Convert speech to text\n",
    "speech_text = speech_to_text()"
   ]
  },
  {
   "cell_type": "code",
   "execution_count": 6,
   "id": "7d69f5ba-c9f3-48a9-b7a4-70ee76853072",
   "metadata": {},
   "outputs": [
    {
     "name": "stdout",
     "output_type": "stream",
     "text": [
      "Keywords: ['hello', 'love', 'happy']\n"
     ]
    }
   ],
   "source": [
    "#txt to keyword\n",
    "import nltk\n",
    "from nltk.tokenize import word_tokenize\n",
    "from nltk.corpus import stopwords\n",
    "from nltk.probability import FreqDist\n",
    "\n",
    "# Download NLTK resources (only required once)\n",
    "#nltk.download('punkt')\n",
    "#nltk.download('stopwords')\n",
    "\n",
    "# Function to extract keywords from text\n",
    "def extract_filtered_words(text):\n",
    "    # Tokenize the text into words\n",
    "    words = word_tokenize(text)\n",
    "\n",
    "    # Remove stopwords (common words like 'the', 'is', 'are', etc.)\n",
    "    stop_words = set(stopwords.words('english'))\n",
    "    filtered_words = [word.lower() for word in words if word.isalnum() and word.lower() not in stop_words]\n",
    "    \n",
    "    return filtered_words\n",
    "\n",
    "# Extract keywords from the speech-to-text output\n",
    "keywords = extract_filtered_words(speech_text)\n",
    "print(\"Keywords:\", keywords)"
   ]
  },
  {
   "cell_type": "code",
   "execution_count": 7,
   "id": "d8c8056c-6dda-4299-8c8b-5b66249cd63b",
   "metadata": {},
   "outputs": [],
   "source": [
    "folder_path = 'E:\\Engineering\\HACKATHON\\GIT\\SignsData'"
   ]
  },
  {
   "cell_type": "code",
   "execution_count": 8,
   "id": "d056750b-a55a-4b04-8d81-35eca43bf6bd",
   "metadata": {},
   "outputs": [],
   "source": [
    "def createSentenceDf(keywords):\n",
    "    sentence_df =  pd.DataFrame()\n",
    "    for sign in keywords :\n",
    "        df = pd.read_csv(os.path.join(folder_path, sign, f'{sign}1.csv'))\n",
    "        sentence_df = pd.concat([sentence_df, df])\n",
    "    return sentence_df\n"
   ]
  },
  {
   "cell_type": "code",
   "execution_count": 9,
   "id": "c19ba260-46b7-4c59-8e00-821ead0fd438",
   "metadata": {},
   "outputs": [],
   "source": [
    "keywords = [\"hello\", \"iloveyou\", \"yes\", \"happy\"]"
   ]
  },
  {
   "cell_type": "code",
   "execution_count": 10,
   "id": "eeb3e045-8f81-4f08-a46d-5e2e7513c0dc",
   "metadata": {},
   "outputs": [
    {
     "data": {
      "text/html": [
       "<div>\n",
       "<style scoped>\n",
       "    .dataframe tbody tr th:only-of-type {\n",
       "        vertical-align: middle;\n",
       "    }\n",
       "\n",
       "    .dataframe tbody tr th {\n",
       "        vertical-align: top;\n",
       "    }\n",
       "\n",
       "    .dataframe thead th {\n",
       "        text-align: right;\n",
       "    }\n",
       "</style>\n",
       "<table border=\"1\" class=\"dataframe\">\n",
       "  <thead>\n",
       "    <tr style=\"text-align: right;\">\n",
       "      <th></th>\n",
       "      <th>frame</th>\n",
       "      <th>row_id</th>\n",
       "      <th>type</th>\n",
       "      <th>landmark_index</th>\n",
       "      <th>x</th>\n",
       "      <th>y</th>\n",
       "      <th>z</th>\n",
       "    </tr>\n",
       "  </thead>\n",
       "  <tbody>\n",
       "    <tr>\n",
       "      <th>0</th>\n",
       "      <td>1</td>\n",
       "      <td>1-pose-0</td>\n",
       "      <td>pose</td>\n",
       "      <td>0</td>\n",
       "      <td>0.072805</td>\n",
       "      <td>0.728703</td>\n",
       "      <td>-1.146874</td>\n",
       "    </tr>\n",
       "    <tr>\n",
       "      <th>1</th>\n",
       "      <td>1</td>\n",
       "      <td>1-pose-1</td>\n",
       "      <td>pose</td>\n",
       "      <td>1</td>\n",
       "      <td>0.092315</td>\n",
       "      <td>0.768224</td>\n",
       "      <td>-1.084959</td>\n",
       "    </tr>\n",
       "    <tr>\n",
       "      <th>2</th>\n",
       "      <td>1</td>\n",
       "      <td>1-pose-2</td>\n",
       "      <td>pose</td>\n",
       "      <td>2</td>\n",
       "      <td>0.102345</td>\n",
       "      <td>0.766240</td>\n",
       "      <td>-1.084086</td>\n",
       "    </tr>\n",
       "    <tr>\n",
       "      <th>3</th>\n",
       "      <td>1</td>\n",
       "      <td>1-pose-3</td>\n",
       "      <td>pose</td>\n",
       "      <td>3</td>\n",
       "      <td>0.111464</td>\n",
       "      <td>0.763789</td>\n",
       "      <td>-1.083412</td>\n",
       "    </tr>\n",
       "    <tr>\n",
       "      <th>4</th>\n",
       "      <td>1</td>\n",
       "      <td>1-pose-4</td>\n",
       "      <td>pose</td>\n",
       "      <td>4</td>\n",
       "      <td>0.055151</td>\n",
       "      <td>0.774073</td>\n",
       "      <td>-1.069484</td>\n",
       "    </tr>\n",
       "    <tr>\n",
       "      <th>...</th>\n",
       "      <td>...</td>\n",
       "      <td>...</td>\n",
       "      <td>...</td>\n",
       "      <td>...</td>\n",
       "      <td>...</td>\n",
       "      <td>...</td>\n",
       "      <td>...</td>\n",
       "    </tr>\n",
       "    <tr>\n",
       "      <th>10855</th>\n",
       "      <td>20</td>\n",
       "      <td>20-right_hand-16</td>\n",
       "      <td>right_hand</td>\n",
       "      <td>16</td>\n",
       "      <td>-0.180860</td>\n",
       "      <td>0.782117</td>\n",
       "      <td>-0.051130</td>\n",
       "    </tr>\n",
       "    <tr>\n",
       "      <th>10856</th>\n",
       "      <td>20</td>\n",
       "      <td>20-right_hand-17</td>\n",
       "      <td>right_hand</td>\n",
       "      <td>17</td>\n",
       "      <td>-0.231386</td>\n",
       "      <td>0.622941</td>\n",
       "      <td>-0.031278</td>\n",
       "    </tr>\n",
       "    <tr>\n",
       "      <th>10857</th>\n",
       "      <td>20</td>\n",
       "      <td>20-right_hand-18</td>\n",
       "      <td>right_hand</td>\n",
       "      <td>18</td>\n",
       "      <td>-0.237988</td>\n",
       "      <td>0.670158</td>\n",
       "      <td>-0.043335</td>\n",
       "    </tr>\n",
       "    <tr>\n",
       "      <th>10858</th>\n",
       "      <td>20</td>\n",
       "      <td>20-right_hand-19</td>\n",
       "      <td>right_hand</td>\n",
       "      <td>19</td>\n",
       "      <td>-0.237417</td>\n",
       "      <td>0.703192</td>\n",
       "      <td>-0.046161</td>\n",
       "    </tr>\n",
       "    <tr>\n",
       "      <th>10859</th>\n",
       "      <td>20</td>\n",
       "      <td>20-right_hand-20</td>\n",
       "      <td>right_hand</td>\n",
       "      <td>20</td>\n",
       "      <td>-0.233383</td>\n",
       "      <td>0.732938</td>\n",
       "      <td>-0.047007</td>\n",
       "    </tr>\n",
       "  </tbody>\n",
       "</table>\n",
       "<p>43440 rows × 7 columns</p>\n",
       "</div>"
      ],
      "text/plain": [
       "       frame            row_id        type  landmark_index         x  \\\n",
       "0          1          1-pose-0        pose               0  0.072805   \n",
       "1          1          1-pose-1        pose               1  0.092315   \n",
       "2          1          1-pose-2        pose               2  0.102345   \n",
       "3          1          1-pose-3        pose               3  0.111464   \n",
       "4          1          1-pose-4        pose               4  0.055151   \n",
       "...      ...               ...         ...             ...       ...   \n",
       "10855     20  20-right_hand-16  right_hand              16 -0.180860   \n",
       "10856     20  20-right_hand-17  right_hand              17 -0.231386   \n",
       "10857     20  20-right_hand-18  right_hand              18 -0.237988   \n",
       "10858     20  20-right_hand-19  right_hand              19 -0.237417   \n",
       "10859     20  20-right_hand-20  right_hand              20 -0.233383   \n",
       "\n",
       "              y         z  \n",
       "0      0.728703 -1.146874  \n",
       "1      0.768224 -1.084959  \n",
       "2      0.766240 -1.084086  \n",
       "3      0.763789 -1.083412  \n",
       "4      0.774073 -1.069484  \n",
       "...         ...       ...  \n",
       "10855  0.782117 -0.051130  \n",
       "10856  0.622941 -0.031278  \n",
       "10857  0.670158 -0.043335  \n",
       "10858  0.703192 -0.046161  \n",
       "10859  0.732938 -0.047007  \n",
       "\n",
       "[43440 rows x 7 columns]"
      ]
     },
     "execution_count": 10,
     "metadata": {},
     "output_type": "execute_result"
    }
   ],
   "source": [
    "df = createSentenceDf(keywords)\n",
    "df"
   ]
  },
  {
   "cell_type": "code",
   "execution_count": 11,
   "id": "1393a418-fec8-4b2c-bb6f-3acfa8c14168",
   "metadata": {},
   "outputs": [
    {
     "data": {
      "text/plain": [
       "array([ 1,  2,  3,  4,  5,  6,  7,  8,  9, 10, 11, 12, 13, 14, 15, 16, 17,\n",
       "       18, 19, 20], dtype=int64)"
      ]
     },
     "execution_count": 11,
     "metadata": {},
     "output_type": "execute_result"
    }
   ],
   "source": [
    "df.frame.unique()"
   ]
  },
  {
   "cell_type": "code",
   "execution_count": 12,
   "id": "a1b41ad9-d4e1-45fa-a042-d7db93283f96",
   "metadata": {},
   "outputs": [
    {
     "ename": "IndexError",
     "evalue": "single positional indexer is out-of-bounds",
     "output_type": "error",
     "traceback": [
      "\u001b[1;31m---------------------------------------------------------------------------\u001b[0m",
      "\u001b[1;31mIndexError\u001b[0m                                Traceback (most recent call last)",
      "Cell \u001b[1;32mIn[12], line 7\u001b[0m\n\u001b[0;32m      3\u001b[0m animation \u001b[38;5;241m=\u001b[39m FuncAnimation(fig, func\u001b[38;5;241m=\u001b[39manimation_frame, frames\u001b[38;5;241m=\u001b[39m[\u001b[38;5;241m1\u001b[39m, \u001b[38;5;241m2\u001b[39m, \u001b[38;5;241m3\u001b[39m, \u001b[38;5;241m4\u001b[39m, \u001b[38;5;241m5\u001b[39m, \u001b[38;5;241m6\u001b[39m, \u001b[38;5;241m7\u001b[39m, \u001b[38;5;241m8\u001b[39m, \u001b[38;5;241m9\u001b[39m, \u001b[38;5;241m10\u001b[39m, \u001b[38;5;241m11\u001b[39m, \u001b[38;5;241m12\u001b[39m, \u001b[38;5;241m13\u001b[39m, \u001b[38;5;241m14\u001b[39m, \u001b[38;5;241m15\u001b[39m, \u001b[38;5;241m16\u001b[39m, \u001b[38;5;241m17\u001b[39m, \u001b[38;5;241m18\u001b[39m, \u001b[38;5;241m19\u001b[39m, \u001b[38;5;241m20\u001b[39m, \u001b[38;5;241m21\u001b[39m, \u001b[38;5;241m22\u001b[39m, \u001b[38;5;241m23\u001b[39m, \u001b[38;5;241m24\u001b[39m, \u001b[38;5;241m25\u001b[39m, \u001b[38;5;241m26\u001b[39m, \u001b[38;5;241m27\u001b[39m, \u001b[38;5;241m28\u001b[39m, \u001b[38;5;241m29\u001b[39m, \u001b[38;5;241m30\u001b[39m, \u001b[38;5;241m31\u001b[39m, \u001b[38;5;241m32\u001b[39m, \u001b[38;5;241m33\u001b[39m, \u001b[38;5;241m34\u001b[39m, \u001b[38;5;241m35\u001b[39m, \u001b[38;5;241m36\u001b[39m, \u001b[38;5;241m37\u001b[39m, \u001b[38;5;241m38\u001b[39m, \u001b[38;5;241m39\u001b[39m, \u001b[38;5;241m40\u001b[39m, \u001b[38;5;241m41\u001b[39m, \u001b[38;5;241m42\u001b[39m, \u001b[38;5;241m43\u001b[39m, \u001b[38;5;241m44\u001b[39m, \u001b[38;5;241m45\u001b[39m, \u001b[38;5;241m46\u001b[39m, \u001b[38;5;241m47\u001b[39m, \u001b[38;5;241m48\u001b[39m, \u001b[38;5;241m49\u001b[39m, \u001b[38;5;241m50\u001b[39m, \u001b[38;5;241m51\u001b[39m, \u001b[38;5;241m52\u001b[39m, \u001b[38;5;241m53\u001b[39m, \u001b[38;5;241m54\u001b[39m, \u001b[38;5;241m55\u001b[39m, \u001b[38;5;241m56\u001b[39m, \u001b[38;5;241m57\u001b[39m, \u001b[38;5;241m58\u001b[39m, \u001b[38;5;241m59\u001b[39m, \u001b[38;5;241m60\u001b[39m, \u001b[38;5;241m61\u001b[39m, \u001b[38;5;241m62\u001b[39m, \u001b[38;5;241m63\u001b[39m, \u001b[38;5;241m64\u001b[39m, \u001b[38;5;241m65\u001b[39m, \u001b[38;5;241m66\u001b[39m, \u001b[38;5;241m67\u001b[39m, \u001b[38;5;241m68\u001b[39m, \u001b[38;5;241m69\u001b[39m, \u001b[38;5;241m70\u001b[39m, \u001b[38;5;241m71\u001b[39m, \u001b[38;5;241m72\u001b[39m, \u001b[38;5;241m73\u001b[39m, \u001b[38;5;241m74\u001b[39m, \u001b[38;5;241m75\u001b[39m, \u001b[38;5;241m76\u001b[39m, \u001b[38;5;241m77\u001b[39m, \u001b[38;5;241m78\u001b[39m, \u001b[38;5;241m79\u001b[39m, \u001b[38;5;241m80\u001b[39m]\n\u001b[0;32m      4\u001b[0m )\n\u001b[0;32m      6\u001b[0m \u001b[38;5;66;03m#print(f\"The phrase being shown here is: {speech_text}\")\u001b[39;00m\n\u001b[1;32m----> 7\u001b[0m HTML(animation\u001b[38;5;241m.\u001b[39mto_html5_video())\n",
      "File \u001b[1;32mE:\\Softwares\\Installed\\Anaconda3\\Lib\\site-packages\\matplotlib\\animation.py:1289\u001b[0m, in \u001b[0;36mAnimation.to_html5_video\u001b[1;34m(self, embed_limit)\u001b[0m\n\u001b[0;32m   1285\u001b[0m Writer \u001b[38;5;241m=\u001b[39m writers[mpl\u001b[38;5;241m.\u001b[39mrcParams[\u001b[38;5;124m'\u001b[39m\u001b[38;5;124manimation.writer\u001b[39m\u001b[38;5;124m'\u001b[39m]]\n\u001b[0;32m   1286\u001b[0m writer \u001b[38;5;241m=\u001b[39m Writer(codec\u001b[38;5;241m=\u001b[39m\u001b[38;5;124m'\u001b[39m\u001b[38;5;124mh264\u001b[39m\u001b[38;5;124m'\u001b[39m,\n\u001b[0;32m   1287\u001b[0m                 bitrate\u001b[38;5;241m=\u001b[39mmpl\u001b[38;5;241m.\u001b[39mrcParams[\u001b[38;5;124m'\u001b[39m\u001b[38;5;124manimation.bitrate\u001b[39m\u001b[38;5;124m'\u001b[39m],\n\u001b[0;32m   1288\u001b[0m                 fps\u001b[38;5;241m=\u001b[39m\u001b[38;5;241m1000.\u001b[39m \u001b[38;5;241m/\u001b[39m \u001b[38;5;28mself\u001b[39m\u001b[38;5;241m.\u001b[39m_interval)\n\u001b[1;32m-> 1289\u001b[0m \u001b[38;5;28mself\u001b[39m\u001b[38;5;241m.\u001b[39msave(\u001b[38;5;28mstr\u001b[39m(path), writer\u001b[38;5;241m=\u001b[39mwriter)\n\u001b[0;32m   1290\u001b[0m \u001b[38;5;66;03m# Now open and base64 encode.\u001b[39;00m\n\u001b[0;32m   1291\u001b[0m vid64 \u001b[38;5;241m=\u001b[39m base64\u001b[38;5;241m.\u001b[39mencodebytes(path\u001b[38;5;241m.\u001b[39mread_bytes())\n",
      "File \u001b[1;32mE:\\Softwares\\Installed\\Anaconda3\\Lib\\site-packages\\matplotlib\\animation.py:1105\u001b[0m, in \u001b[0;36mAnimation.save\u001b[1;34m(self, filename, writer, fps, dpi, codec, bitrate, extra_args, metadata, extra_anim, savefig_kwargs, progress_callback)\u001b[0m\n\u001b[0;32m   1102\u001b[0m \u001b[38;5;28;01mfor\u001b[39;00m data \u001b[38;5;129;01min\u001b[39;00m \u001b[38;5;28mzip\u001b[39m(\u001b[38;5;241m*\u001b[39m[a\u001b[38;5;241m.\u001b[39mnew_saved_frame_seq() \u001b[38;5;28;01mfor\u001b[39;00m a \u001b[38;5;129;01min\u001b[39;00m all_anim]):\n\u001b[0;32m   1103\u001b[0m     \u001b[38;5;28;01mfor\u001b[39;00m anim, d \u001b[38;5;129;01min\u001b[39;00m \u001b[38;5;28mzip\u001b[39m(all_anim, data):\n\u001b[0;32m   1104\u001b[0m         \u001b[38;5;66;03m# TODO: See if turning off blit is really necessary\u001b[39;00m\n\u001b[1;32m-> 1105\u001b[0m         anim\u001b[38;5;241m.\u001b[39m_draw_next_frame(d, blit\u001b[38;5;241m=\u001b[39m\u001b[38;5;28;01mFalse\u001b[39;00m)\n\u001b[0;32m   1106\u001b[0m         \u001b[38;5;28;01mif\u001b[39;00m progress_callback \u001b[38;5;129;01mis\u001b[39;00m \u001b[38;5;129;01mnot\u001b[39;00m \u001b[38;5;28;01mNone\u001b[39;00m:\n\u001b[0;32m   1107\u001b[0m             progress_callback(frame_number, total_frames)\n",
      "File \u001b[1;32mE:\\Softwares\\Installed\\Anaconda3\\Lib\\site-packages\\matplotlib\\animation.py:1140\u001b[0m, in \u001b[0;36mAnimation._draw_next_frame\u001b[1;34m(self, framedata, blit)\u001b[0m\n\u001b[0;32m   1136\u001b[0m \u001b[38;5;28;01mdef\u001b[39;00m \u001b[38;5;21m_draw_next_frame\u001b[39m(\u001b[38;5;28mself\u001b[39m, framedata, blit):\n\u001b[0;32m   1137\u001b[0m     \u001b[38;5;66;03m# Breaks down the drawing of the next frame into steps of pre- and\u001b[39;00m\n\u001b[0;32m   1138\u001b[0m     \u001b[38;5;66;03m# post- draw, as well as the drawing of the frame itself.\u001b[39;00m\n\u001b[0;32m   1139\u001b[0m     \u001b[38;5;28mself\u001b[39m\u001b[38;5;241m.\u001b[39m_pre_draw(framedata, blit)\n\u001b[1;32m-> 1140\u001b[0m     \u001b[38;5;28mself\u001b[39m\u001b[38;5;241m.\u001b[39m_draw_frame(framedata)\n\u001b[0;32m   1141\u001b[0m     \u001b[38;5;28mself\u001b[39m\u001b[38;5;241m.\u001b[39m_post_draw(framedata, blit)\n",
      "File \u001b[1;32mE:\\Softwares\\Installed\\Anaconda3\\Lib\\site-packages\\matplotlib\\animation.py:1768\u001b[0m, in \u001b[0;36mFuncAnimation._draw_frame\u001b[1;34m(self, framedata)\u001b[0m\n\u001b[0;32m   1764\u001b[0m     \u001b[38;5;28mself\u001b[39m\u001b[38;5;241m.\u001b[39m_save_seq \u001b[38;5;241m=\u001b[39m \u001b[38;5;28mself\u001b[39m\u001b[38;5;241m.\u001b[39m_save_seq[\u001b[38;5;241m-\u001b[39m\u001b[38;5;28mself\u001b[39m\u001b[38;5;241m.\u001b[39m_save_count:]\n\u001b[0;32m   1766\u001b[0m \u001b[38;5;66;03m# Call the func with framedata and args. If blitting is desired,\u001b[39;00m\n\u001b[0;32m   1767\u001b[0m \u001b[38;5;66;03m# func needs to return a sequence of any artists that were modified.\u001b[39;00m\n\u001b[1;32m-> 1768\u001b[0m \u001b[38;5;28mself\u001b[39m\u001b[38;5;241m.\u001b[39m_drawn_artists \u001b[38;5;241m=\u001b[39m \u001b[38;5;28mself\u001b[39m\u001b[38;5;241m.\u001b[39m_func(framedata, \u001b[38;5;241m*\u001b[39m\u001b[38;5;28mself\u001b[39m\u001b[38;5;241m.\u001b[39m_args)\n\u001b[0;32m   1770\u001b[0m \u001b[38;5;28;01mif\u001b[39;00m \u001b[38;5;28mself\u001b[39m\u001b[38;5;241m.\u001b[39m_blit:\n\u001b[0;32m   1772\u001b[0m     err \u001b[38;5;241m=\u001b[39m \u001b[38;5;167;01mRuntimeError\u001b[39;00m(\u001b[38;5;124m'\u001b[39m\u001b[38;5;124mThe animation function must return a sequence \u001b[39m\u001b[38;5;124m'\u001b[39m\n\u001b[0;32m   1773\u001b[0m                        \u001b[38;5;124m'\u001b[39m\u001b[38;5;124mof Artist objects.\u001b[39m\u001b[38;5;124m'\u001b[39m)\n",
      "Cell \u001b[1;32mIn[3], line 43\u001b[0m, in \u001b[0;36manimation_frame\u001b[1;34m(f)\u001b[0m\n\u001b[0;32m     41\u001b[0m pose \u001b[38;5;241m=\u001b[39m frame[frame\u001b[38;5;241m.\u001b[39mtype\u001b[38;5;241m==\u001b[39m\u001b[38;5;124m'\u001b[39m\u001b[38;5;124mpose\u001b[39m\u001b[38;5;124m'\u001b[39m]\n\u001b[0;32m     42\u001b[0m face \u001b[38;5;241m=\u001b[39m frame[frame\u001b[38;5;241m.\u001b[39mtype\u001b[38;5;241m==\u001b[39m\u001b[38;5;124m'\u001b[39m\u001b[38;5;124mface\u001b[39m\u001b[38;5;124m'\u001b[39m][[\u001b[38;5;124m'\u001b[39m\u001b[38;5;124mx\u001b[39m\u001b[38;5;124m'\u001b[39m, \u001b[38;5;124m'\u001b[39m\u001b[38;5;124my\u001b[39m\u001b[38;5;124m'\u001b[39m]]\u001b[38;5;241m.\u001b[39mvalues\n\u001b[1;32m---> 43\u001b[0m lx, ly \u001b[38;5;241m=\u001b[39m get_hand_points(left)\n\u001b[0;32m     44\u001b[0m rx, ry \u001b[38;5;241m=\u001b[39m get_hand_points(right)\n\u001b[0;32m     45\u001b[0m px, py \u001b[38;5;241m=\u001b[39m get_pose_points(pose)\n",
      "Cell \u001b[1;32mIn[3], line 2\u001b[0m, in \u001b[0;36mget_hand_points\u001b[1;34m(hand)\u001b[0m\n\u001b[0;32m      1\u001b[0m \u001b[38;5;28;01mdef\u001b[39;00m \u001b[38;5;21mget_hand_points\u001b[39m(hand):\n\u001b[1;32m----> 2\u001b[0m     x \u001b[38;5;241m=\u001b[39m [[hand\u001b[38;5;241m.\u001b[39miloc[\u001b[38;5;241m0\u001b[39m]\u001b[38;5;241m.\u001b[39mx, hand\u001b[38;5;241m.\u001b[39miloc[\u001b[38;5;241m1\u001b[39m]\u001b[38;5;241m.\u001b[39mx, hand\u001b[38;5;241m.\u001b[39miloc[\u001b[38;5;241m2\u001b[39m]\u001b[38;5;241m.\u001b[39mx, hand\u001b[38;5;241m.\u001b[39miloc[\u001b[38;5;241m3\u001b[39m]\u001b[38;5;241m.\u001b[39mx, hand\u001b[38;5;241m.\u001b[39miloc[\u001b[38;5;241m4\u001b[39m]\u001b[38;5;241m.\u001b[39mx], \u001b[38;5;66;03m# Thumb\u001b[39;00m\n\u001b[0;32m      3\u001b[0m          [hand\u001b[38;5;241m.\u001b[39miloc[\u001b[38;5;241m5\u001b[39m]\u001b[38;5;241m.\u001b[39mx, hand\u001b[38;5;241m.\u001b[39miloc[\u001b[38;5;241m6\u001b[39m]\u001b[38;5;241m.\u001b[39mx, hand\u001b[38;5;241m.\u001b[39miloc[\u001b[38;5;241m7\u001b[39m]\u001b[38;5;241m.\u001b[39mx, hand\u001b[38;5;241m.\u001b[39miloc[\u001b[38;5;241m8\u001b[39m]\u001b[38;5;241m.\u001b[39mx], \u001b[38;5;66;03m# Index\u001b[39;00m\n\u001b[0;32m      4\u001b[0m          [hand\u001b[38;5;241m.\u001b[39miloc[\u001b[38;5;241m9\u001b[39m]\u001b[38;5;241m.\u001b[39mx, hand\u001b[38;5;241m.\u001b[39miloc[\u001b[38;5;241m10\u001b[39m]\u001b[38;5;241m.\u001b[39mx, hand\u001b[38;5;241m.\u001b[39miloc[\u001b[38;5;241m11\u001b[39m]\u001b[38;5;241m.\u001b[39mx, hand\u001b[38;5;241m.\u001b[39miloc[\u001b[38;5;241m12\u001b[39m]\u001b[38;5;241m.\u001b[39mx],\n\u001b[0;32m      5\u001b[0m          [hand\u001b[38;5;241m.\u001b[39miloc[\u001b[38;5;241m13\u001b[39m]\u001b[38;5;241m.\u001b[39mx, hand\u001b[38;5;241m.\u001b[39miloc[\u001b[38;5;241m14\u001b[39m]\u001b[38;5;241m.\u001b[39mx, hand\u001b[38;5;241m.\u001b[39miloc[\u001b[38;5;241m15\u001b[39m]\u001b[38;5;241m.\u001b[39mx, hand\u001b[38;5;241m.\u001b[39miloc[\u001b[38;5;241m16\u001b[39m]\u001b[38;5;241m.\u001b[39mx],\n\u001b[0;32m      6\u001b[0m          [hand\u001b[38;5;241m.\u001b[39miloc[\u001b[38;5;241m17\u001b[39m]\u001b[38;5;241m.\u001b[39mx, hand\u001b[38;5;241m.\u001b[39miloc[\u001b[38;5;241m18\u001b[39m]\u001b[38;5;241m.\u001b[39mx, hand\u001b[38;5;241m.\u001b[39miloc[\u001b[38;5;241m19\u001b[39m]\u001b[38;5;241m.\u001b[39mx, hand\u001b[38;5;241m.\u001b[39miloc[\u001b[38;5;241m20\u001b[39m]\u001b[38;5;241m.\u001b[39mx],\n\u001b[0;32m      7\u001b[0m          [hand\u001b[38;5;241m.\u001b[39miloc[\u001b[38;5;241m0\u001b[39m]\u001b[38;5;241m.\u001b[39mx, hand\u001b[38;5;241m.\u001b[39miloc[\u001b[38;5;241m5\u001b[39m]\u001b[38;5;241m.\u001b[39mx, hand\u001b[38;5;241m.\u001b[39miloc[\u001b[38;5;241m9\u001b[39m]\u001b[38;5;241m.\u001b[39mx, hand\u001b[38;5;241m.\u001b[39miloc[\u001b[38;5;241m13\u001b[39m]\u001b[38;5;241m.\u001b[39mx, hand\u001b[38;5;241m.\u001b[39miloc[\u001b[38;5;241m17\u001b[39m]\u001b[38;5;241m.\u001b[39mx, hand\u001b[38;5;241m.\u001b[39miloc[\u001b[38;5;241m0\u001b[39m]\u001b[38;5;241m.\u001b[39mx]]\n\u001b[0;32m      9\u001b[0m     y \u001b[38;5;241m=\u001b[39m [[hand\u001b[38;5;241m.\u001b[39miloc[\u001b[38;5;241m0\u001b[39m]\u001b[38;5;241m.\u001b[39my, hand\u001b[38;5;241m.\u001b[39miloc[\u001b[38;5;241m1\u001b[39m]\u001b[38;5;241m.\u001b[39my, hand\u001b[38;5;241m.\u001b[39miloc[\u001b[38;5;241m2\u001b[39m]\u001b[38;5;241m.\u001b[39my, hand\u001b[38;5;241m.\u001b[39miloc[\u001b[38;5;241m3\u001b[39m]\u001b[38;5;241m.\u001b[39my, hand\u001b[38;5;241m.\u001b[39miloc[\u001b[38;5;241m4\u001b[39m]\u001b[38;5;241m.\u001b[39my],  \u001b[38;5;66;03m#Thumb\u001b[39;00m\n\u001b[0;32m     10\u001b[0m          [hand\u001b[38;5;241m.\u001b[39miloc[\u001b[38;5;241m5\u001b[39m]\u001b[38;5;241m.\u001b[39my, hand\u001b[38;5;241m.\u001b[39miloc[\u001b[38;5;241m6\u001b[39m]\u001b[38;5;241m.\u001b[39my, hand\u001b[38;5;241m.\u001b[39miloc[\u001b[38;5;241m7\u001b[39m]\u001b[38;5;241m.\u001b[39my, hand\u001b[38;5;241m.\u001b[39miloc[\u001b[38;5;241m8\u001b[39m]\u001b[38;5;241m.\u001b[39my], \u001b[38;5;66;03m# Index\u001b[39;00m\n\u001b[0;32m     11\u001b[0m          [hand\u001b[38;5;241m.\u001b[39miloc[\u001b[38;5;241m9\u001b[39m]\u001b[38;5;241m.\u001b[39my, hand\u001b[38;5;241m.\u001b[39miloc[\u001b[38;5;241m10\u001b[39m]\u001b[38;5;241m.\u001b[39my, hand\u001b[38;5;241m.\u001b[39miloc[\u001b[38;5;241m11\u001b[39m]\u001b[38;5;241m.\u001b[39my, hand\u001b[38;5;241m.\u001b[39miloc[\u001b[38;5;241m12\u001b[39m]\u001b[38;5;241m.\u001b[39my],\n\u001b[0;32m     12\u001b[0m          [hand\u001b[38;5;241m.\u001b[39miloc[\u001b[38;5;241m13\u001b[39m]\u001b[38;5;241m.\u001b[39my, hand\u001b[38;5;241m.\u001b[39miloc[\u001b[38;5;241m14\u001b[39m]\u001b[38;5;241m.\u001b[39my, hand\u001b[38;5;241m.\u001b[39miloc[\u001b[38;5;241m15\u001b[39m]\u001b[38;5;241m.\u001b[39my, hand\u001b[38;5;241m.\u001b[39miloc[\u001b[38;5;241m16\u001b[39m]\u001b[38;5;241m.\u001b[39my],\n\u001b[0;32m     13\u001b[0m          [hand\u001b[38;5;241m.\u001b[39miloc[\u001b[38;5;241m17\u001b[39m]\u001b[38;5;241m.\u001b[39my, hand\u001b[38;5;241m.\u001b[39miloc[\u001b[38;5;241m18\u001b[39m]\u001b[38;5;241m.\u001b[39my, hand\u001b[38;5;241m.\u001b[39miloc[\u001b[38;5;241m19\u001b[39m]\u001b[38;5;241m.\u001b[39my, hand\u001b[38;5;241m.\u001b[39miloc[\u001b[38;5;241m20\u001b[39m]\u001b[38;5;241m.\u001b[39my],\n\u001b[0;32m     14\u001b[0m          [hand\u001b[38;5;241m.\u001b[39miloc[\u001b[38;5;241m0\u001b[39m]\u001b[38;5;241m.\u001b[39my, hand\u001b[38;5;241m.\u001b[39miloc[\u001b[38;5;241m5\u001b[39m]\u001b[38;5;241m.\u001b[39my, hand\u001b[38;5;241m.\u001b[39miloc[\u001b[38;5;241m9\u001b[39m]\u001b[38;5;241m.\u001b[39my, hand\u001b[38;5;241m.\u001b[39miloc[\u001b[38;5;241m13\u001b[39m]\u001b[38;5;241m.\u001b[39my, hand\u001b[38;5;241m.\u001b[39miloc[\u001b[38;5;241m17\u001b[39m]\u001b[38;5;241m.\u001b[39my, hand\u001b[38;5;241m.\u001b[39miloc[\u001b[38;5;241m0\u001b[39m]\u001b[38;5;241m.\u001b[39my]]\n\u001b[0;32m     15\u001b[0m     \u001b[38;5;28;01mreturn\u001b[39;00m x, y\n",
      "File \u001b[1;32mE:\\Softwares\\Installed\\Anaconda3\\Lib\\site-packages\\pandas\\core\\indexing.py:1153\u001b[0m, in \u001b[0;36m_LocationIndexer.__getitem__\u001b[1;34m(self, key)\u001b[0m\n\u001b[0;32m   1150\u001b[0m axis \u001b[38;5;241m=\u001b[39m \u001b[38;5;28mself\u001b[39m\u001b[38;5;241m.\u001b[39maxis \u001b[38;5;129;01mor\u001b[39;00m \u001b[38;5;241m0\u001b[39m\n\u001b[0;32m   1152\u001b[0m maybe_callable \u001b[38;5;241m=\u001b[39m com\u001b[38;5;241m.\u001b[39mapply_if_callable(key, \u001b[38;5;28mself\u001b[39m\u001b[38;5;241m.\u001b[39mobj)\n\u001b[1;32m-> 1153\u001b[0m \u001b[38;5;28;01mreturn\u001b[39;00m \u001b[38;5;28mself\u001b[39m\u001b[38;5;241m.\u001b[39m_getitem_axis(maybe_callable, axis\u001b[38;5;241m=\u001b[39maxis)\n",
      "File \u001b[1;32mE:\\Softwares\\Installed\\Anaconda3\\Lib\\site-packages\\pandas\\core\\indexing.py:1714\u001b[0m, in \u001b[0;36m_iLocIndexer._getitem_axis\u001b[1;34m(self, key, axis)\u001b[0m\n\u001b[0;32m   1711\u001b[0m     \u001b[38;5;28;01mraise\u001b[39;00m \u001b[38;5;167;01mTypeError\u001b[39;00m(\u001b[38;5;124m\"\u001b[39m\u001b[38;5;124mCannot index by location index with a non-integer key\u001b[39m\u001b[38;5;124m\"\u001b[39m)\n\u001b[0;32m   1713\u001b[0m \u001b[38;5;66;03m# validate the location\u001b[39;00m\n\u001b[1;32m-> 1714\u001b[0m \u001b[38;5;28mself\u001b[39m\u001b[38;5;241m.\u001b[39m_validate_integer(key, axis)\n\u001b[0;32m   1716\u001b[0m \u001b[38;5;28;01mreturn\u001b[39;00m \u001b[38;5;28mself\u001b[39m\u001b[38;5;241m.\u001b[39mobj\u001b[38;5;241m.\u001b[39m_ixs(key, axis\u001b[38;5;241m=\u001b[39maxis)\n",
      "File \u001b[1;32mE:\\Softwares\\Installed\\Anaconda3\\Lib\\site-packages\\pandas\\core\\indexing.py:1647\u001b[0m, in \u001b[0;36m_iLocIndexer._validate_integer\u001b[1;34m(self, key, axis)\u001b[0m\n\u001b[0;32m   1645\u001b[0m len_axis \u001b[38;5;241m=\u001b[39m \u001b[38;5;28mlen\u001b[39m(\u001b[38;5;28mself\u001b[39m\u001b[38;5;241m.\u001b[39mobj\u001b[38;5;241m.\u001b[39m_get_axis(axis))\n\u001b[0;32m   1646\u001b[0m \u001b[38;5;28;01mif\u001b[39;00m key \u001b[38;5;241m>\u001b[39m\u001b[38;5;241m=\u001b[39m len_axis \u001b[38;5;129;01mor\u001b[39;00m key \u001b[38;5;241m<\u001b[39m \u001b[38;5;241m-\u001b[39mlen_axis:\n\u001b[1;32m-> 1647\u001b[0m     \u001b[38;5;28;01mraise\u001b[39;00m \u001b[38;5;167;01mIndexError\u001b[39;00m(\u001b[38;5;124m\"\u001b[39m\u001b[38;5;124msingle positional indexer is out-of-bounds\u001b[39m\u001b[38;5;124m\"\u001b[39m)\n",
      "\u001b[1;31mIndexError\u001b[0m: single positional indexer is out-of-bounds"
     ]
    },
    {
     "data": {
      "image/png": "[encoded data removed]",
      "text/plain": [
       "<Figure size 640x480 with 1 Axes>"
      ]
     },
     "metadata": {},
     "output_type": "display_data"
    }
   ],
   "source": [
    "fig, ax = plt.subplots()\n",
    "l, = ax.plot([], [])\n",
    "animation = FuncAnimation(fig, func=animation_frame, frames=[1, 2, 3, 4, 5, 6, 7, 8, 9, 10, 11, 12, 13, 14, 15, 16, 17, 18, 19, 20, 21, 22, 23, 24, 25, 26, 27, 28, 29, 30, 31, 32, 33, 34, 35, 36, 37, 38, 39, 40, 41, 42, 43, 44, 45, 46, 47, 48, 49, 50, 51, 52, 53, 54, 55, 56, 57, 58, 59, 60, 61, 62, 63, 64, 65, 66, 67, 68, 69, 70, 71, 72, 73, 74, 75, 76, 77, 78, 79, 80]\n",
    ")\n",
    "\n",
    "#print(f\"The phrase being shown here is: {speech_text}\")\n",
    "HTML(animation.to_html5_video())"
   ]
  },
  {
   "cell_type": "code",
   "execution_count": null,
   "id": "8086f257-8d2f-45ff-b839-11c36a6d2356",
   "metadata": {},
   "outputs": [],
   "source": []
  }
 ],
 "metadata": {
  "kernelspec": {
   "display_name": "Python 3 (ipykernel)",
   "language": "python",
   "name": "python3"
  },
  "language_info": {
   "codemirror_mode": {
    "name": "ipython",
    "version": 3
   },
   "file_extension": ".py",
   "mimetype": "text/x-python",
   "name": "python",
   "nbconvert_exporter": "python",
   "pygments_lexer": "ipython3",
   "version": "3.11.7"
  }
 },
 "nbformat": 4,
 "nbformat_minor": 5
}
